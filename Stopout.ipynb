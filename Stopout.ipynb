{
 "cells": [
  {
   "cell_type": "code",
   "execution_count": 10,
   "metadata": {},
   "outputs": [
    {
     "name": "stdout",
     "output_type": "stream",
     "text": [
      "- 민아\n",
      "- 혜리\n",
      "- 유라\n",
      "- 소진\n"
     ]
    }
   ],
   "source": [
    "'''\n",
    "1. 다음 리스트를 사용해 아래와 같은 문자열을 만들어 \n",
    "girlsday_info변수에 할당한 후, 콘솔에 내용을 출력하시오. [5점]\n",
    "'''\n",
    "girlsday_members = ['민아', '혜리', '유라', '소진']\n",
    "\n",
    "for item in girlsday_members:\n",
    "    print(f'- {item}')"
   ]
  },
  {
   "cell_type": "code",
   "execution_count": 11,
   "metadata": {},
   "outputs": [
    {
     "name": "stdout",
     "output_type": "stream",
     "text": [
      "[0] RED: Apple\n",
      "[1] YELLOW: Banana\n",
      "[2] GREEN: Melon\n"
     ]
    }
   ],
   "source": [
    "'''2. fruit_dict객체를 사용해서 아래와 같은 결과값을 갖는 문자열을 \n",
    "만들어 fruit_info변수에 할당 한 후, 콘솔에 내용을 출력하시오. [10점]\n",
    "'''\n",
    "fruit_dict = {\n",
    "    'red': 'apple',\n",
    "    'yellow': 'banana',\n",
    "    'green': 'melon',\n",
    "}\n",
    "\n",
    "for idx, item in enumerate(fruit_dict.items()):\n",
    "    print(f'[{idx}] {item[0].upper()}: {item[1].title()}')"
   ]
  },
  {
   "cell_type": "code",
   "execution_count": 36,
   "metadata": {},
   "outputs": [
    {
     "name": "stdout",
     "output_type": "stream",
     "text": [
      "copy() 메서드가 하는 일\n",
      "bc = ac.copy()와 같이 copy를 사용한 뒤 bc에 할당해주면 리스트 ac의 요소가 모두 bc에 복사됩니다. 이 때, a와 b는 별개이므로 값을 변경해도 다른 리스트에 영향을 미치지 않습니다.\n",
      "ac: [0, 0, 0, 0, 0]\n",
      "bc: [0, 0, 99, 0, 0]\n",
      "\n",
      "copy()를 사용하지 않았을 때 발생할 수 있는 오류\n",
      "b = a와 같이 리스트를 다른 변수에 할당하면 리스트는 두 개가 될 것 같지만 실제로는 리스트가 한 개입니다. 그래서 b[2] = 99와 같이 리스트 b의 값을 변경하면 a의 값을 바꾸지 않았어도 리스트 a와 b에 모두 반영됩니다.\n",
      "a: [0, 0, 99, 0, 0]\n",
      "b: [0, 0, 99, 0, 0]\n"
     ]
    }
   ],
   "source": [
    "'''\n",
    "3. list의 copy()메서드가 하는 일과, copy()를 사용하지 않았을 때 \n",
    "발생할 수 있는 오류에 대한 예제 코드를 작성하시오. [10점]\n",
    "'''\n",
    "\n",
    "print(\"copy() 메서드가 하는 일\")\n",
    "print(\"bc = ac.copy()와 같이 copy를 사용한 뒤 bc에 할당해주면 리스트 ac의 요소가 모두 bc에 복사됩니다. 이 때, a와 b는 별개이므로 값을 변경해도 다른 리스트에 영향을 미치지 않습니다.\")\n",
    "ac = [0, 0, 0, 0, 0]\n",
    "bc = a.copy()\n",
    "bc[2] = 99\n",
    "print(f'ac: {ac}')\n",
    "print(f'bc: {bc}')\n",
    "print()\n",
    "print(\"copy()를 사용하지 않았을 때 발생할 수 있는 오류\")\n",
    "print(\"b = a와 같이 리스트를 다른 변수에 할당하면 리스트는 두 개가 될 것 같지만 실제로는 리스트가 한 개입니다. 그래서 b[2] = 99와 같이 리스트 b의 값을 변경하면 a의 값을 바꾸지 않았어도 리스트 a와 b에 모두 반영됩니다.\")\n",
    "a = [0, 0, 0, 0, 0]\n",
    "b = a\n",
    "b[2] = 99\n",
    "print(f'a: {a}')\n",
    "print(f'b: {b}')"
   ]
  },
  {
   "cell_type": "code",
   "execution_count": 13,
   "metadata": {},
   "outputs": [
    {
     "name": "stdout",
     "output_type": "stream",
     "text": [
      "[3, 7, 11, 15, 19, 23, 27]\n"
     ]
    }
   ],
   "source": [
    "'''\n",
    "4. 1에서 30까지의 숫자 중, \n",
    "3부터 시작해서 4번째마다의 숫자를 가지는 리스트를 생성하시오. [5점]\n",
    "기본점수: 3점\n",
    "'''\n",
    "result = []\n",
    "for i in range(3,31,4):\n",
    "    result.append(i)\n",
    "print(result)"
   ]
  },
  {
   "cell_type": "code",
   "execution_count": 16,
   "metadata": {},
   "outputs": [
    {
     "name": "stdout",
     "output_type": "stream",
     "text": [
      "obj['key']는 Key 오류를 발생시키고, obj.get('key')는 None을 리턴한다는 차이가 있다.\n"
     ]
    }
   ],
   "source": [
    "'''\n",
    "5. dict형 객체인 obj가 있다고 할 때, \n",
    "obj['key']와 obj.get('key')의 차이를 서술하시오. [5점]\n",
    "'''\n",
    "\n",
    "print(\"obj['key']는 Key 오류를 발생시키고, obj.get('key')는 None을 리턴한다는 차이가 있다.\")\n"
   ]
  },
  {
   "cell_type": "code",
   "execution_count": 26,
   "metadata": {},
   "outputs": [
    {
     "name": "stdout",
     "output_type": "stream",
     "text": [
      "다음과 같이 튜플의 요소를 변수 여러개에 할당하는 것을 튜플 언패킹이라고 합니다.\n",
      "e.g. item 튜플의 요소를 pokemon과 poke_type에 할당하는 과정\n",
      "\n",
      "피카츄: 전기 타입\n",
      "파이리: 불 타입\n",
      "꼬부기: 물 타입\n",
      "이상해씨: 풀 타입\n"
     ]
    }
   ],
   "source": [
    "'''\n",
    "6. 튜플 언패킹에 대해 서술하고, pokemon_info 객체를 순회할 때, \n",
    "튜플 언패킹을 사용하는 예제 코드를 작성하시오. [10점]\n",
    "'''\n",
    "\n",
    "pokemon_info = [\n",
    "    ('피카츄', '전기 타입'),\n",
    "    ('파이리', '불 타입'),\n",
    "    ('꼬부기', '물 타입'),\n",
    "    ('이상해씨', '풀 타입'),\n",
    "]\n",
    "\n",
    "print(\"다음과 같이 튜플의 요소를 변수 여러개에 할당하는 것을 튜플 언패킹이라고 합니다.\")\n",
    "print(\"e.g. item 튜플의 요소를 pokemon과 poke_type에 할당하는 과정\\n\")\n",
    "for item in pokemon_info:\n",
    "    pokemon, poke_type = item\n",
    "    print(f'{pokemon}: {poke_type}')\n",
    "    "
   ]
  },
  {
   "cell_type": "code",
   "execution_count": 43,
   "metadata": {},
   "outputs": [
    {
     "name": "stdout",
     "output_type": "stream",
     "text": [
      "위치 인자: 매개변수의 순서대로 인자를 전달하여 사용하는 경우 (순서가 중요)\n",
      "이름: 나익채, 성별: 남성\n",
      "\n",
      "키워드 인자: 매개변수의 이름을 지정하여 인자로 전달하여 사용하는 경우 (순서가 바뀌어도 괜찮다.)\n",
      "이름: 나익채, 성별: 남성\n"
     ]
    }
   ],
   "source": [
    "'''\n",
    "7. 함수에서 위치인자와 키워드인자의 차이점에 대해 서술하시오. [5점]\n",
    "'''\n",
    "\n",
    "print(\"위치 인자: 매개변수의 순서대로 인자를 전달하여 사용하는 경우 (순서가 중요)\")\n",
    "def student(name, gender):\n",
    "    print(f'이름: {name}, 성별: {gender}')\n",
    "student('나익채', '남성')\n",
    "print()\n",
    "print(\"키워드 인자: 매개변수의 이름을 지정하여 인자로 전달하여 사용하는 경우 (순서가 바뀌어도 괜찮다.)\")\n",
    "\n",
    "\n",
    "student(gender='남성', name='나익채')"
   ]
  },
  {
   "cell_type": "code",
   "execution_count": 50,
   "metadata": {},
   "outputs": [
    {
     "name": "stdout",
     "output_type": "stream",
     "text": [
      "클래스와 인스턴스의 차이점 [2점]\n",
      "인스턴스는 특정한 클래스의 형태를 가진 객체를 뜻하고, 클래스는 객체를 만들기 위한 틀이다.\n",
      "\n",
      "클래스의 생성자 함수 이름 [1점]\n",
      "__init__\n",
      "\n",
      "클래스의 생성자 함수가 호출되는 시점은? [2점]\n",
      "객체를 메모리에 생성한 후 호출된다.\n",
      "\n",
      "인스턴스 메서드의 self매개변수의 의미 [4점]\n",
      "메서드를 호출하는 객체 자신이 자동으로 전달된다.\n",
      "\n",
      "예를들어 shop.show_info()과 같이 shop 객체의 show_info라는 인스턴스 메서드를 호출한다면, show_info에는 자동으로 shop 객체가 전달된다.\n"
     ]
    }
   ],
   "source": [
    "'''\n",
    "8. 클래스와 인스턴스의 다음 사항들에 대해 서술하시오.\n",
    "'''\n",
    "print(\"클래스와 인스턴스의 차이점 [2점]\")\n",
    "print(\"인스턴스는 특정한 클래스의 형태를 가진 객체를 뜻하고, 클래스는 객체를 만들기 위한 틀이다.\\n\")\n",
    "print(\"클래스의 생성자 함수 이름 [1점]\")\n",
    "print(\"__init__\\n\")\n",
    "print(\"클래스의 생성자 함수가 호출되는 시점은? [2점]\")\n",
    "print(\"객체를 메모리에 생성한 후 호출된다.\\n\")\n",
    "print(\"인스턴스 메서드의 self매개변수의 의미 [4점]\")\n",
    "print(\"메서드를 호출하는 객체 자신이 자동으로 전달된다.\\n\")\n",
    "print(\"예를들어 shop.show_info()과 같이 shop 객체의 show_info라는 인스턴스 메서드를 호출한다면, show_info에는 자동으로 shop 객체가 전달된다.\")"
   ]
  },
  {
   "cell_type": "code",
   "execution_count": 65,
   "metadata": {},
   "outputs": [
    {
     "name": "stdout",
     "output_type": "stream",
     "text": [
      "getter를 만드는 방법에 대해 서술: 2점\n",
      "\n",
      "@property\n",
      "def name(self):\n",
      "    return self.__name\n",
      "\n",
      "위와 같이 함수의 상단에 @property 데코레이터를 붙여 만든다.\n",
      "\n",
      "setter를 만드는 방법에 대해 서술: 3점\n",
      "\n",
      "@name.setter\n",
      "def name(self, new_name):\n",
      "    self.__name = new_name\n",
      "    print('Set new name ({})'.format(self.__name))\n",
      "\n",
      "위와 같이 함수의 상단에 getter 함수의 이름(name) + .setter를 붙인 데코레이터를 추가해서 만든다.\n"
     ]
    }
   ],
   "source": [
    "'''\n",
    "9. property를 정의하는 방법에 대해 서술하시오. [5점]\n",
    "'''\n",
    "\n",
    "print(\"getter를 만드는 방법에 대해 서술: 2점\")\n",
    "\n",
    "getter = '''\n",
    "@property\n",
    "def name(self):\n",
    "    return self.__name\n",
    "'''\n",
    "print(getter)\n",
    "print(\"위와 같이 함수의 상단에 @property 데코레이터를 붙여 만든다.\")\n",
    "print()\n",
    "print(\"setter를 만드는 방법에 대해 서술: 3점\")\n",
    "\n",
    "setter = '''\n",
    "@name.setter\n",
    "def name(self, new_name):\n",
    "    self.__name = new_name\n",
    "    print('Set new name ({})'.format(self.__name))\n",
    "'''\n",
    "print(setter)\n",
    "print(\"위와 같이 함수의 상단에 getter 함수의 이름(name) + .setter를 붙인 데코레이터를 추가해서 만든다.\")\n"
   ]
  },
  {
   "cell_type": "code",
   "execution_count": 56,
   "metadata": {},
   "outputs": [],
   "source": [
    "'''\n",
    "10. 아래와 같은 User클래스가 있다. \n",
    "이 클래스를 상속받은 Student클래스를 정의하고, \n",
    "초기화 메서드에서 name과 함께age라는 매개변수를 추가로 사용해 \n",
    "인스턴스의 age속성을 추가로 정의하도록 한다. [10점]\n",
    "'''\n",
    "\n",
    "class User:\n",
    "    def __init__(self, name):\n",
    "        self.name = name\n",
    "        \n",
    "class Student(User):\n",
    "    def __init__(self, name, age):\n",
    "        super().__init__(name)\n",
    "        self.age = age"
   ]
  },
  {
   "cell_type": "code",
   "execution_count": 69,
   "metadata": {},
   "outputs": [],
   "source": [
    "'''\n",
    "11. url주소로부터 아래 결과를 출력한다. [10점]\n",
    "'''\n",
    "# 요청을 한번만 하기위해 html과 soup에 할당\n",
    "from bs4 import BeautifulSoup\n",
    "import requests\n",
    "\n",
    "url = 'http://www.leagueoflegends.co.kr/?m=news&cate=notice'\n",
    "\n",
    "response = requests.get(url)\n",
    "open('notice.html', 'wt').write(response.text)\n",
    "\n",
    "\n",
    "html = open('notice.html', 'rt').read()\n",
    "soup = BeautifulSoup(html, 'lxml')"
   ]
  },
  {
   "cell_type": "code",
   "execution_count": 77,
   "metadata": {},
   "outputs": [
    {
     "name": "stdout",
     "output_type": "stream",
     "text": [
      "승리를 쟁취하라\n",
      "10월 14일(일) 금융기관별 결제 서비스 점검 안내\n",
      "대리 게임 등 적발 현황 281차 안내\n",
      "부정행위 프로그램 제재 현황 안내\n",
      "인생챔프 : 큐베 - 나르편\n",
      "임무 기능 장애 현상 안내 (정상화)\n",
      "LCK팀의 Worlds가 오늘 시작됩니다!\n",
      "임무 기능 장애 현상 안내 (정상화)\n",
      "2018 월드 챔피언십 그룹 스테이지 현장 라이엇 스토어 운영 안내\n",
      "10월 10일(수) 서버 점검 및 업데이트 안내 (완료)\n"
     ]
    }
   ],
   "source": [
    "# 11 Continued\n",
    "# col_list = soup.select_one('div.list_area.daily_all').select('.col')\n",
    "\n",
    "notice_list_tmp = soup.select('table.request-list.info-type02 > tbody > tr')\n",
    "\n",
    "for notice in notice_list_tmp:\n",
    "    title = notice.select_one('a').get_text(strip=True)\n",
    "    print(title)"
   ]
  },
  {
   "cell_type": "code",
   "execution_count": 101,
   "metadata": {},
   "outputs": [
    {
     "name": "stdout",
     "output_type": "stream",
     "text": [
      "승리를 쟁취하라\n",
      "2018-10-14\n",
      "4,952\n",
      "\n",
      "10월 14일(일) 금융기관별 결제 서비스 점검 안내\n",
      "2018-10-12\n",
      "1,272\n",
      "\n",
      "대리 게임 등 적발 현황 281차 안내\n",
      "2018-10-12\n",
      "2,172\n",
      "\n",
      "부정행위 프로그램 제재 현황 안내\n",
      "2018-10-12\n",
      "923\n",
      "\n",
      "인생챔프 : 큐베 - 나르편\n",
      "2018-10-11\n",
      "1,524\n",
      "\n",
      "임무 기능 장애 현상 안내 (정상화)\n",
      "2018-10-10\n",
      "2,478\n",
      "\n",
      "LCK팀의 Worlds가 오늘 시작됩니다!\n",
      "2018-10-10\n",
      "2,806\n",
      "\n",
      "임무 기능 장애 현상 안내 (정상화)\n",
      "2018-10-09\n",
      "9,653\n",
      "\n",
      "2018 월드 챔피언십 그룹 스테이지 현장 라이엇 스토어 운영 안내\n",
      "2018-10-09\n",
      "3,447\n",
      "\n",
      "10월 10일(수) 서버 점검 및 업데이트 안내 (완료)\n",
      "2018-10-09\n",
      "12,265\n",
      "\n"
     ]
    }
   ],
   "source": [
    "'''\n",
    "12. url주소에 있는 공지사항에 해당하는 Notice클래스를 만들고, \n",
    "크롤링시 공지사항 하나마다 Notice클래스 인스턴스를 만들어 \n",
    "notice_list리스트에 추가한다. [10점]\n",
    "'''\n",
    "class Notice:\n",
    "    def __init__(self, title, date, view):\n",
    "        self.title = title\n",
    "        self.date = date\n",
    "        self.view = view\n",
    "\n",
    "notice_list = []\n",
    "notice_list_data = soup.select('table.request-list.info-type02 > tbody > tr')\n",
    "\n",
    "for notice in notice_list_data:\n",
    "    title = notice.select('td')[0].get_text(strip=True)\n",
    "    date = notice.select('td')[1].get_text(strip=True)\n",
    "    view = notice.select('td')[2].get_text(strip=True)\n",
    "\n",
    "    notice_list.append(Notice(title, date, view))\n",
    "    \n",
    "for notice in notice_list:\n",
    "    print(notice.title)\n",
    "    print(notice.date)\n",
    "    print(notice.view)\n",
    "    print()"
   ]
  },
  {
   "cell_type": "code",
   "execution_count": 109,
   "metadata": {},
   "outputs": [
    {
     "name": "stdout",
     "output_type": "stream",
     "text": [
      "1. config의 urls.py에 path('abc/', views.abc, name='abc')와 같이(혹은 유사하게) 정의되어 있다면, 이를 처리하기 위해 config의 views.py로 이동\n",
      "2. views.py의 abc함수에서(혹은 클래스에서 fbv인지 cbv인지에 따라 다름) models.py를 참고해 요청에 대한 데이터를 가져옴\n",
      "3. return render(request, 'abc/index.html', context) 와 같이 처리한 결과를 렌더링해 사용자에게 보여줌. 이 때 처리한 결과는 context에 들어있음\n"
     ]
    }
   ],
   "source": [
    "'''\n",
    "13. runserver가 localhost:8000에서 입력을 받는 상태로 동작 중일 때, \n",
    "브라우저에서 http://localhost:8000/abc/ 라는 URL을 입력하면 \n",
    "어떤 절차를 거쳐 사용자에게 다시 화면을 보여주는지 서술하시오. [10점]\n",
    "'''\n",
    "\n",
    "print(\"1. config의 urls.py에 path('abc/', views.abc, name='abc')와 같이(혹은 유사하게) 정의되어 있다면, 이를 처리하기 위해 config의 views.py로 이동\")\n",
    "print(\"2. views.py의 abc함수에서(혹은 클래스에서 fbv인지 cbv인지에 따라 다름) models.py를 참고해 요청에 대한 데이터를 가져옴\")\n",
    "print(\"3. return render(request, 'abc/index.html', context) 와 같이 처리한 결과를 렌더링해 사용자에게 보여줌. 이 때 처리한 결과는 context에 들어있음\")\n"
   ]
  },
  {
   "cell_type": "code",
   "execution_count": null,
   "metadata": {},
   "outputs": [],
   "source": []
  }
 ],
 "metadata": {
  "kernelspec": {
   "display_name": "Python 3",
   "language": "python",
   "name": "python3"
  },
  "language_info": {
   "codemirror_mode": {
    "name": "ipython",
    "version": 3
   },
   "file_extension": ".py",
   "mimetype": "text/x-python",
   "name": "python",
   "nbconvert_exporter": "python",
   "pygments_lexer": "ipython3",
   "version": "3.6.6"
  }
 },
 "nbformat": 4,
 "nbformat_minor": 2
}
